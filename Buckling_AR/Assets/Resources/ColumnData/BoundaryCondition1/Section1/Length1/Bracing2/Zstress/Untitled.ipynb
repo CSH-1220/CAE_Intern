{
 "cells": [
  {
   "cell_type": "code",
   "execution_count": 1,
   "metadata": {},
   "outputs": [],
   "source": [
    "DataInput = open('Zstress.txt')\n",
    "TextArray = []\n",
    "for line in DataInput:\n",
    "    TextArray.append(line)\n",
    "\n",
    "run1 = True\n",
    "run2 = True\n",
    "\n",
    "\n",
    "\n",
    "elementArray = []\n",
    "elementStressArray = []\n",
    "stress = ''\n",
    "\n",
    "location = 0\n",
    "for i in TextArray:\n",
    "\tif \"    0.0000000000e+00    0.0000000000e+00\"  in i:\n",
    "\t\tif(run1 == True):\n",
    "\t\t\tMinLocation = location\n",
    "\t\t\trun1 = False\n",
    "\tif \"endcurve\" in i:\n",
    "\t\tif(run2 == True):\n",
    "\t\t\tMaxLocation = location\n",
    "\t\t\trun2 = False\n",
    "\n",
    "\tlocation+=1\n",
    "\n",
    "pointNumber = MaxLocation - MinLocation\n",
    "\n",
    "\n",
    "time = 1\n",
    "index = 0\n",
    "while (time <= pointNumber):\n",
    "\tlocation = 0\n",
    "\tpath = str(time) + '.txt'\n",
    "\tDataOutput = open(path, 'w')\n",
    "\tfor i in TextArray:\n",
    "\t\n",
    "\t\tif \"endcurve\" in i:\n",
    "\t\t\telementArray = TextArray[location - pointNumber + index].split()\n",
    "\t\t\telementStressArray.append(elementArray[1])\n",
    "\t\tlocation+=1\n",
    "\n",
    "\tDataOutput.writelines(line + '\\n' for line in elementStressArray)\n",
    "\tDataOutput.close()\n",
    "\n",
    "\telementStressArray = []\n",
    "\n",
    "\tindex+=1\n",
    "\ttime+=1\n",
    "\n",
    "\t\n",
    "\n",
    "\n",
    "\n"
   ]
  },
  {
   "cell_type": "code",
   "execution_count": null,
   "metadata": {},
   "outputs": [],
   "source": []
  }
 ],
 "metadata": {
  "kernelspec": {
   "display_name": "Python 3",
   "language": "python",
   "name": "python3"
  },
  "language_info": {
   "codemirror_mode": {
    "name": "ipython",
    "version": 3
   },
   "file_extension": ".py",
   "mimetype": "text/x-python",
   "name": "python",
   "nbconvert_exporter": "python",
   "pygments_lexer": "ipython3",
   "version": "3.8.3"
  }
 },
 "nbformat": 4,
 "nbformat_minor": 4
}
